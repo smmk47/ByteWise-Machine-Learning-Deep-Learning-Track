{
 "cells": [
  {
   "cell_type": "markdown",
   "id": "d35df094-b610-413f-b714-d958642f4857",
   "metadata": {},
   "source": [
    "# Handwritten Digit Classification with ANN\n",
    "\n",
    "This notebook demonstrates the process of building an Artificial Neural Network (ANN) for classifying handwritten digits using the MNIST dataset. It includes data preprocessing, model training, evaluation, and visualization of predictions.\n",
    "\n",
    "## Import Libraries"
   ]
  },
  {
   "cell_type": "code",
   "execution_count": 46,
   "id": "09274c46-0b25-4b99-8e95-c0c776d6e69b",
   "metadata": {},
   "outputs": [],
   "source": [
    "import numpy as np\n",
    "import tensorflow as tf\n",
    "from tensorflow.keras.models import Sequential\n",
    "from tensorflow.keras.layers import Dense, Flatten\n",
    "from tensorflow.keras.datasets import mnist\n",
    "from tensorflow.keras.utils import to_categorical\n",
    "import matplotlib.pyplot as plt\n",
    "\n"
   ]
  },
  {
   "cell_type": "markdown",
   "id": "c3381a11-31cf-450e-8f71-e9fee9522519",
   "metadata": {},
   "source": [
    "## Load and Preprocess Data\n",
    "### We will load the MNIST dataset, normalize the pixel values, and convert the labels to one-hot encoding."
   ]
  },
  {
   "cell_type": "code",
   "execution_count": 49,
   "id": "19d4288d-3fde-442e-b94e-bf51450eeb35",
   "metadata": {},
   "outputs": [],
   "source": [
    "# Load MNIST dataset\n",
    "(x_train, y_train), (x_test, y_test) = mnist.load_data()\n",
    "\n",
    "# Normalize pixel values to be between 0 and 1\n",
    "x_train, x_test = x_train / 255.0, x_test / 255.0\n",
    "\n",
    "# Convert labels to one-hot encoding\n",
    "y_train = to_categorical(y_train, 10)\n",
    "y_test = to_categorical(y_test, 10)\n",
    "\n"
   ]
  },
  {
   "cell_type": "markdown",
   "id": "bd1570f6-85aa-42b4-820e-629dc0fb07b8",
   "metadata": {},
   "source": [
    "## Build the ANN Model\n",
    "### We will build a simple ANN model with two hidden layers and one output layer.\n",
    "\n"
   ]
  },
  {
   "cell_type": "code",
   "execution_count": 52,
   "id": "f3a1a60e-1648-4212-8fee-8fe9e9f4531b",
   "metadata": {},
   "outputs": [],
   "source": [
    "# Build the ANN model\n",
    "model = Sequential([\n",
    "    Flatten(input_shape=(28, 28)),  # Flatten the 28x28 images into 1D\n",
    "    Dense(128, activation='relu'),  # First hidden layer with 128 neurons\n",
    "    Dense(64, activation='relu'),   # Second hidden layer with 64 neurons\n",
    "    Dense(10, activation='softmax') # Output layer with 10 neurons (one for each digit)\n",
    "])\n",
    "\n"
   ]
  },
  {
   "cell_type": "markdown",
   "id": "cb19e516-01ad-4fb7-ae2f-2dbfc7f1c988",
   "metadata": {},
   "source": [
    "## Compile the Model\n",
    "### We will compile the model using the Adam optimizer and categorical cross-entropy loss function.\n",
    "\n"
   ]
  },
  {
   "cell_type": "code",
   "execution_count": 55,
   "id": "79b2a2f8-9d4e-4f58-8031-78983f71feea",
   "metadata": {},
   "outputs": [],
   "source": [
    "# Compile the model\n",
    "model.compile(optimizer='adam',\n",
    "              loss='categorical_crossentropy',\n",
    "              metrics=['accuracy'])\n",
    "\n"
   ]
  },
  {
   "cell_type": "markdown",
   "id": "ce90de16-4bc0-4705-adf0-2f704d65e8ba",
   "metadata": {},
   "source": [
    "## Train the Model\n",
    "### We will train the model on the training data and validate it using a portion of the training data.\n",
    "\n"
   ]
  },
  {
   "cell_type": "code",
   "execution_count": 58,
   "id": "1f6dad46-d9a8-4c0f-ab68-8d121d9f86c0",
   "metadata": {},
   "outputs": [
    {
     "name": "stdout",
     "output_type": "stream",
     "text": [
      "Epoch 1/5\n",
      "\u001b[1m1500/1500\u001b[0m \u001b[32m━━━━━━━━━━━━━━━━━━━━\u001b[0m\u001b[37m\u001b[0m \u001b[1m10s\u001b[0m 5ms/step - accuracy: 0.8577 - loss: 0.4700 - val_accuracy: 0.9597 - val_loss: 0.1424\n",
      "Epoch 2/5\n",
      "\u001b[1m1500/1500\u001b[0m \u001b[32m━━━━━━━━━━━━━━━━━━━━\u001b[0m\u001b[37m\u001b[0m \u001b[1m9s\u001b[0m 4ms/step - accuracy: 0.9638 - loss: 0.1220 - val_accuracy: 0.9677 - val_loss: 0.1101\n",
      "Epoch 3/5\n",
      "\u001b[1m1500/1500\u001b[0m \u001b[32m━━━━━━━━━━━━━━━━━━━━\u001b[0m\u001b[37m\u001b[0m \u001b[1m11s\u001b[0m 5ms/step - accuracy: 0.9765 - loss: 0.0776 - val_accuracy: 0.9708 - val_loss: 0.0969\n",
      "Epoch 4/5\n",
      "\u001b[1m1500/1500\u001b[0m \u001b[32m━━━━━━━━━━━━━━━━━━━━\u001b[0m\u001b[37m\u001b[0m \u001b[1m10s\u001b[0m 5ms/step - accuracy: 0.9829 - loss: 0.0563 - val_accuracy: 0.9721 - val_loss: 0.0926\n",
      "Epoch 5/5\n",
      "\u001b[1m1500/1500\u001b[0m \u001b[32m━━━━━━━━━━━━━━━━━━━━\u001b[0m\u001b[37m\u001b[0m \u001b[1m11s\u001b[0m 5ms/step - accuracy: 0.9864 - loss: 0.0421 - val_accuracy: 0.9678 - val_loss: 0.1088\n",
      "\n",
      "Training and Validation Accuracy:\n",
      "Epoch 1: Training Accuracy = 0.9190, Validation Accuracy = 0.9597\n",
      "Epoch 2: Training Accuracy = 0.9660, Validation Accuracy = 0.9677\n",
      "Epoch 3: Training Accuracy = 0.9754, Validation Accuracy = 0.9708\n",
      "Epoch 4: Training Accuracy = 0.9815, Validation Accuracy = 0.9721\n",
      "Epoch 5: Training Accuracy = 0.9854, Validation Accuracy = 0.9678\n"
     ]
    }
   ],
   "source": [
    "# Train the model\n",
    "history = model.fit(x_train, y_train, epochs=5, batch_size=32, validation_split=0.2)\n",
    "\n",
    "# Print training and validation accuracy\n",
    "print(\"\\nTraining and Validation Accuracy:\")\n",
    "for epoch, acc in enumerate(history.history['accuracy']):\n",
    "    val_acc = history.history['val_accuracy'][epoch]\n",
    "    print(f\"Epoch {epoch+1}: Training Accuracy = {acc:.4f}, Validation Accuracy = {val_acc:.4f}\")\n",
    "\n"
   ]
  },
  {
   "cell_type": "markdown",
   "id": "64a42fea-159b-46c6-911d-f1303f43a47f",
   "metadata": {},
   "source": [
    "## Evaluate the Model\n",
    "### We will evaluate the model on the test set to measure its performance.\n",
    "\n"
   ]
  },
  {
   "cell_type": "code",
   "execution_count": 61,
   "id": "94c2cafc-91e2-4deb-bd51-1083f1516394",
   "metadata": {},
   "outputs": [
    {
     "name": "stdout",
     "output_type": "stream",
     "text": [
      "313/313 - 1s - 3ms/step - accuracy: 0.9722 - loss: 0.0919\n",
      "\n",
      "Test accuracy: 0.9722\n"
     ]
    }
   ],
   "source": [
    "# Evaluate the model\n",
    "test_loss, test_acc = model.evaluate(x_test, y_test, verbose=2)\n",
    "print(f'\\nTest accuracy: {test_acc:.4f}')\n",
    "\n",
    "\n"
   ]
  },
  {
   "cell_type": "markdown",
   "id": "5555cdc7-509e-4f0f-836c-49759990620f",
   "metadata": {},
   "source": [
    "## Make Predictions\n",
    "### We will use the model to make predictions on the test set and visualize some results.\n",
    "\n"
   ]
  },
  {
   "cell_type": "code",
   "execution_count": 64,
   "id": "0e604031-ce68-4d80-b28c-91718b0eb994",
   "metadata": {},
   "outputs": [
    {
     "name": "stdout",
     "output_type": "stream",
     "text": [
      "\u001b[1m313/313\u001b[0m \u001b[32m━━━━━━━━━━━━━━━━━━━━\u001b[0m\u001b[37m\u001b[0m \u001b[1m1s\u001b[0m 2ms/step\n"
     ]
    }
   ],
   "source": [
    "# Make predictions\n",
    "predictions = model.predict(x_test)\n"
   ]
  },
  {
   "cell_type": "markdown",
   "id": "769c5805-7b21-47b5-aafc-df23b9d38406",
   "metadata": {},
   "source": [
    "## Display Test Images with Predictions\n",
    "### We will display a few test images along with their predicted and actual labels.\n"
   ]
  },
  {
   "cell_type": "code",
   "execution_count": 67,
   "id": "1db1c1b8-c349-443e-849b-a1bb55dcb5a7",
   "metadata": {},
   "outputs": [
    {
     "data": {
      "image/png": "[encoded data removed]",
      "text/plain": [
       "<Figure size 1000x1000 with 4 Axes>"
      ]
     },
     "metadata": {},
     "output_type": "display_data"
    }
   ],
   "source": [
    "\n",
    "# Display multiple test images with their predictions and actual labels\n",
    "num_images = 4\n",
    "plt.figure(figsize=(10, 10))\n",
    "\n",
    "for i in range(num_images):\n",
    "    plt.subplot(2, 2, i+1)\n",
    "    plt.imshow(x_test[i], cmap='gray')\n",
    "    predicted_label = np.argmax(predictions[i])\n",
    "    actual_label = np.argmax(y_test[i])\n",
    "    plt.title(f'Predicted: {predicted_label}, Actual: {actual_label}')\n",
    "    plt.axis('off')\n",
    "\n",
    "plt.tight_layout()\n",
    "plt.show()"
   ]
  },
  {
   "cell_type": "code",
   "execution_count": null,
   "id": "02da41ec-f53c-4871-858b-d80d042d6b05",
   "metadata": {},
   "outputs": [],
   "source": []
  },
  {
   "cell_type": "markdown",
   "id": "2f10a416-66a0-426a-b989-6b4081e1bf8e",
   "metadata": {},
   "source": [
    "\r\n",
    "\r\n",
    "## Explanation\r\n",
    "aboveovided code demonstrates how to build, train, and evaluate a simple Artificial Neural Network (ANN) model using TensorFlow and Keras to classify handwritten digits from the MNIST dataset. Here's a step-by-step breakdown of the code:\r\n",
    "\r\n",
    "1. **Import Libraries**:\r\n",
    "   - `numpy` for numerical operations.\r\n",
    "   - `tensorflow` and `keras` for building and training the neural network.\r\n",
    "   - `matplotlib.pyplot` for visualizing results.\r\n",
    "\r\n",
    "2. **Load MNIST Dataset**:\r\n",
    "   - The MNIST dataset, which contains 28x28 grayscale images of handwritten digits (0-9), is loaded and split into training and testing sets.\r\n",
    "\r\n",
    "3. **Preprocess Data**:\r\n",
    "   - Pixel values of images are normalized to a range between 0 and 1.\r\n",
    "   - Labels are converted to one-hot encoded vectors, where each label is represented as a vector with a `1` in the position of the corresponding digit and `0`s elsewhere.\r\n",
    "\r\n",
    "4. **Build the ANN Model**:\r\n",
    "   - A `Sequential` model is defined with three layers:\r\n",
    "     - **Flatten Layer**: Converts the 28x28 2D images into 1D vectors.\r\n",
    "     - **Dense Layer 1**: A fully connected layer with 128 neurons and ReLU activation function.\r\n",
    "     - **Dense Layer 2**: Another fully connected layer with 64 neurons and ReLU activation function.\r\n",
    "     - **Output Layer**: A fully connected layer with 10 neurons and a softmax activation function to output probabilities for each digit class.\r\n",
    "\r\n",
    "5. **Compile the Model**:\r\n",
    "   - The model is compiled using the Adam optimizer and categorical crossentropy loss function. Accuracy is used as a metric.\r\n",
    "\r\n",
    "6. **Train the Model**:\r\n",
    "   - The model is trained for 5 epochs with a batch size of 32. 20% of the training data is used for validation.\r\n",
    "\r\n",
    "7. **Print Training and Validation Accuracy**:\r\n",
    "   - After training, the accuracy for each epoch is printed, showing both training and validation accuracy.\r\n",
    "\r\n",
    "8. **Evaluate the Model**:\r\n",
    "   - The model's performance is evaluated on the test dataset, and the test accuracy is printed.\r\n",
    "\r\n",
    "9. **Make Predictions**:\r\n",
    "   - Predictions are made on the test dataset.\r\n",
    "\r\n",
    "10. **Visualize Predictions**:\r\n",
    "    - A subset of test images is displayed with their predicted and actual labels to visually assess the model's performance.\r\n",
    "\r\n",
    "## Conclusion\r\n",
    "\r\n",
    "In summary, this code showcases a straightforward approach to building and evaluating an ANN for digit classification using TensorFlow and Keras. The following key points are observed:\r\n",
    "\r\n",
    "- **Model Architecture**: The network consists of a flatten layer followed by two dense layers and an output layer. This simple architecture is effective for the MNIST dataset, which is relatively straightforward.\r\n",
    "- **Training and Evaluation**: The model is trained for 5 epochs with good results, as indicated by the accuracy metrics. The validation accuracy provides insight into how well the model generalizes to unseen data.\r\n",
    "- **Visual Evaluation**: By displaying test images alongside their predicted and actual labels, we can visually inspect hownhance performance on more challenging datasets.\r\n",
    "\r\n",
    "---"
   ]
  },
  {
   "cell_type": "code",
   "execution_count": null,
   "id": "e43843f2-b229-43d8-a913-488940196e8b",
   "metadata": {},
   "outputs": [],
   "source": []
  }
 ],
 "metadata": {
  "kernelspec": {
   "display_name": "Python 3 (ipykernel)",
   "language": "python",
   "name": "python3"
  },
  "language_info": {
   "codemirror_mode": {
    "name": "ipython",
    "version": 3
   },
   "file_extension": ".py",
   "mimetype": "text/x-python",
   "name": "python",
   "nbconvert_exporter": "python",
   "pygments_lexer": "ipython3",
   "version": "3.12.4"
  }
 },
 "nbformat": 4,
 "nbformat_minor": 5
}
