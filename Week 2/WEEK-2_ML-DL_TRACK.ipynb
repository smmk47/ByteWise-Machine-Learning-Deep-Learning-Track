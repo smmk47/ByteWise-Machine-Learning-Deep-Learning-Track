{
 "cells": [
  {
   "cell_type": "markdown",
   "id": "feab3df3",
   "metadata": {},
   "source": [
    "# Week 2 Assignment"
   ]
  },
  {
   "cell_type": "markdown",
   "id": "61c8bb7b",
   "metadata": {},
   "source": [
    "## Python Introduction\n",
    "## Variables, Data Types, Conditions & Functions\n",
    "## Introduction to data structures (lists, tuples, dictionaries)"
   ]
  },
  {
   "cell_type": "markdown",
   "id": "0e3b3e39",
   "metadata": {},
   "source": [
    "## Question 1"
   ]
  },
  {
   "cell_type": "code",
   "execution_count": 2,
   "id": "379836de",
   "metadata": {},
   "outputs": [
    {
     "name": "stdout",
     "output_type": "stream",
     "text": [
      "Enter your name: Murtaza\n",
      "Enter your age: 22\n",
      "Enter your email: murtazakazmi555@gmail.com\n",
      "Enter your favorite number: 5\n",
      "Hello Murtaza, you are 22 years old, your email is murtazakazmi555@gmail.com, and your favorite number is 5.\n"
     ]
    }
   ],
   "source": [
    "name = input(\"Enter your name: \")\n",
    "age = int(input(\"Enter your age: \"))\n",
    "email = input(\"Enter your email: \")\n",
    "favorite_number = int(input(\"Enter your favorite number: \"))\n",
    "\n",
    "user_data = {\n",
    "    \"name\": name,\n",
    "    \"age\": age,\n",
    "    \"email\": email,\n",
    "    \"favorite_number\": favorite_number\n",
    "}\n",
    "\n",
    "if \"@\" in email and \".\" in email:\n",
    "    valid_email = True\n",
    "else:\n",
    "    valid_email = False\n",
    "\n",
    "if valid_email:\n",
    "    print(f\"Hello {name}, you are {age} years old, your email is {email}, and your favorite number is {favorite_number}.\")\n",
    "else:\n",
    "    print(\"Invalid email format. Please try again!\")"
   ]
  },
  {
   "cell_type": "markdown",
   "id": "5b595863",
   "metadata": {},
   "source": [
    "# User Input and Validation\n",
    "\n",
    "## Prompt User for Input:\n",
    "- Ask for name, age, email, and favorite number.\n",
    "- Convert age and favorite number to integers.\n",
    "\n",
    "## Store Inputs in a Dictionary:\n",
    "- Store name, age, email, and favorite number in `user_data` dictionary.\n",
    "\n",
    "## Validate Email Format:\n",
    "- Check if email contains both \"@\" and \".\".\n",
    "- Set `valid_email` to `True` if valid, otherwise `False`.\n",
    "\n",
    "## Display Message:\n",
    "- If `valid_email` is `True`, print user's details.\n",
    "- If `valid_email` is `False`, print an error message.\n"
   ]
  },
  {
   "cell_type": "markdown",
   "id": "e3d39c86",
   "metadata": {},
   "source": [
    "## Question 2"
   ]
  },
  {
   "cell_type": "code",
   "execution_count": 3,
   "id": "43ff0534",
   "metadata": {},
   "outputs": [
    {
     "name": "stdout",
     "output_type": "stream",
     "text": [
      "4 is even.\n",
      "3 is odd.\n",
      "10 is even.\n"
     ]
    },
    {
     "data": {
      "text/plain": [
       "True"
      ]
     },
     "execution_count": 3,
     "metadata": {},
     "output_type": "execute_result"
    }
   ],
   "source": [
    "def Is_even(number):\n",
    "   \n",
    "    if number % 2 == 0:\n",
    "        print(f\"{number} is even.\")\n",
    "        return True\n",
    "    else:\n",
    "        print(f\"{number} is odd.\")\n",
    "        return False\n",
    "    \n",
    "    \n",
    "Is_even(4)\n",
    "Is_even(3)\n",
    "Is_even(10)"
   ]
  },
  {
   "cell_type": "markdown",
   "id": "a8dfcee0",
   "metadata": {},
   "source": [
    "# Function Definition and Usage\n",
    "\n",
    "## Define `Is_even` Function:\n",
    "- Create a function named `Is_even` that takes one parameter, `number`.\n",
    "- Check if `number` is even by using the modulus operator `%`.\n",
    "\n",
    "## Check if the Number is Even:\n",
    "- If `number % 2 == 0`, the number is even:\n",
    "  - Print that the number is even.\n",
    "  - Return `True`.\n",
    "- Else, the number is odd:\n",
    "  - Print that the number is odd.\n",
    "  - Return `False`.\n",
    "\n",
    "## Call `Is_even` Function:\n",
    "- Call `Is_even(4)`:\n",
    "  - Output: `4 is even.`\n",
    "  - Return value: `True`.\n",
    "- Call `Is_even(3)`:\n",
    "  - Output: `3 is odd.`\n",
    "  - Return value: `False`.\n",
    "- Call `Is_even(10)`:\n",
    "  - Output: `10 is even.`\n",
    "  - Return value: `True`.\n"
   ]
  },
  {
   "cell_type": "markdown",
   "id": "9957ec35",
   "metadata": {},
   "source": [
    "## Question 3"
   ]
  },
  {
   "cell_type": "code",
   "execution_count": 4,
   "id": "87c20343",
   "metadata": {},
   "outputs": [
    {
     "name": "stdout",
     "output_type": "stream",
     "text": [
      "25°C is equal to 77.0°F.\n",
      "80°F is equal to 26.666666666666668°C.\n",
      "Invalid scale. Please enter 'C' for Celsius or 'F' for Fahrenheit.\n"
     ]
    }
   ],
   "source": [
    "def convert_temperature(temp, scale):\n",
    "    \n",
    "    if scale.upper() == \"C\": \n",
    "        converted_temp = (temp * 9/5) + 32\n",
    "        print(f\"{temp}°C is equal to {converted_temp}°F.\")\n",
    "        return converted_temp\n",
    "    elif scale.upper() == \"F\":  \n",
    "        converted_temp = (temp - 32) * 5/9\n",
    "        print(f\"{temp}°F is equal to {converted_temp}°C.\")\n",
    "        return converted_temp\n",
    "    else:\n",
    "        print(\"Invalid scale. Please enter 'C' for Celsius or 'F' for Fahrenheit.\")\n",
    "        return None\n",
    "    \n",
    "    \n",
    "convert_temperature(25, \"C\")\n",
    "convert_temperature(80, \"F\")\n",
    "convert_temperature(30, \"K\")  # Invalid scale"
   ]
  },
  {
   "cell_type": "markdown",
   "id": "4d88ef70",
   "metadata": {},
   "source": [
    "# Function Definition and Usage\n",
    "\n",
    "## Define `convert_temperature` Function:\n",
    "- Create a function named `convert_temperature` that takes two parameters: `temp` (temperature) and `scale` (target scale).\n",
    "\n",
    "## Convert Temperature:\n",
    "- If `scale.upper() == \"C\"`:\n",
    "  - Convert Celsius to Fahrenheit using the formula `(temp * 9/5) + 32`.\n",
    "  - Print the result and return the converted temperature.\n",
    "- If `scale.upper() == \"F\"`:\n",
    "  - Convert Fahrenheit to Celsius using the formula `(temp - 32) * 5/9`.\n",
    "  - Print the result and return the converted temperature.\n",
    "- If the scale is not 'C' or 'F':\n",
    "  - Print an error message indicating an invalid scale.\n",
    "  - Return `None`.\n",
    "\n",
    "## Call `convert_temperature` Function:\n",
    "- Call `convert_temperature(25, \"C\")`:\n",
    "  - Output: `25°C is equal to 77.0°F.`\n",
    "  - Return value: `77.0`.\n",
    "- Call `convert_temperature(80, \"F\")`:\n",
    "  - Output: `80°F is equal to 26.666666666666668°C.`\n",
    "  - Return value: `26.666666666666668`.\n",
    "- Call `convert_temperature(30, \"K\")`:\n",
    "  - Output: `Invalid scale. Please enter 'C' for Celsius or 'F' for Fahrenheit.`\n",
    "  - Return value: `None`.\n"
   ]
  },
  {
   "cell_type": "markdown",
   "id": "16be2ffe",
   "metadata": {},
   "source": [
    "## Question 4"
   ]
  },
  {
   "cell_type": "code",
   "execution_count": 5,
   "id": "3fdef484",
   "metadata": {},
   "outputs": [
    {
     "name": "stdout",
     "output_type": "stream",
     "text": [
      "Enter number 1: 1\n",
      "Enter number 2: 4\n",
      "Enter number 3: 66\n",
      "Enter number 4: 22\n",
      "Enter number 5: 55\n",
      "Maximum number: 66.0\n",
      "Minimum number: 1.0\n"
     ]
    }
   ],
   "source": [
    "def find_max_min(numbers_list):\n",
    "   \n",
    "    max_num = max(numbers_list)\n",
    "    min_num = min(numbers_list)\n",
    "    return max_num, min_num\n",
    "\n",
    "#  enter 5 numbers\n",
    "numbers = []\n",
    "for i in range(5):\n",
    "    num = float(input(f\"Enter number {i+1}: \"))\n",
    "    numbers.append(num)\n",
    "\n",
    "max_num, min_num = find_max_min(numbers)\n",
    "print(f\"Maximum number: {max_num}\")\n",
    "print(f\"Minimum number: {min_num}\")"
   ]
  },
  {
   "cell_type": "markdown",
   "id": "cbf1b223",
   "metadata": {},
   "source": [
    "# Function Definition and Usage\n",
    "\n",
    "## Define `find_max_min` Function:\n",
    "- Create a function named `find_max_min` that takes one parameter, `numbers_list`.\n",
    "- Calculate the maximum number using the `max` function.\n",
    "- Calculate the minimum number using the `min` function.\n",
    "- Return the maximum and minimum numbers.\n",
    "\n",
    "## Prompt User to Enter 5 Numbers:\n",
    "- Initialize an empty list named `numbers`.\n",
    "- Use a `for` loop to prompt the user to enter 5 numbers:\n",
    "  - Convert each input to a float.\n",
    "  - Append each number to the `numbers` list.\n",
    "\n",
    "## Find and Display Maximum and Minimum Numbers:\n",
    "- Call `find_max_min(numbers)` to get the maximum and minimum numbers.\n",
    "- Print the maximum number.\n",
    "- Print the minimum number.\n"
   ]
  },
  {
   "cell_type": "code",
   "execution_count": 6,
   "id": "4c928491",
   "metadata": {},
   "outputs": [
    {
     "name": "stdout",
     "output_type": "stream",
     "text": [
      "Enter number 1: 55\n",
      "Enter number 2: 33\n",
      "Enter number 3: 22\n",
      "Enter number 4: 1\n",
      "Enter number 5: 99\n",
      "Maximum number: 99.0\n",
      "Minimum number: 1.0\n"
     ]
    }
   ],
   "source": [
    "def find_max_min(numbers_list):\n",
    "    max_num = numbers_list[0]\n",
    "    min_num = numbers_list[0]\n",
    "    for num in numbers_list:\n",
    "        if num > max_num:\n",
    "            max_num = num\n",
    "        elif num < min_num:\n",
    "            min_num = num\n",
    "    return max_num, min_num\n",
    "\n",
    "#  enter 5 numbers\n",
    "numbers = []\n",
    "for i in range(5):\n",
    "    num = float(input(f\"Enter number {i+1}: \"))\n",
    "    numbers.append(num)\n",
    "\n",
    "max_num, min_num = find_max_min(numbers)\n",
    "print(f\"Maximum number: {max_num}\")\n",
    "print(f\"Minimum number: {min_num}\")"
   ]
  },
  {
   "cell_type": "markdown",
   "id": "59170c01",
   "metadata": {},
   "source": [
    "# Function Definition and Usage\n",
    "\n",
    "## Define `find_max_min` Function:\n",
    "- Create a function named `find_max_min` that takes one parameter, `numbers_list`.\n",
    "- Initialize `max_num` and `min_num` with the first element of `numbers_list`.\n",
    "- Iterate through `numbers_list` to find the maximum and minimum numbers:\n",
    "  - Update `max_num` if the current number is greater than `max_num`.\n",
    "  - Update `min_num` if the current number is less than `min_num`.\n",
    "- Return the maximum and minimum numbers.\n",
    "\n",
    "## Prompt User to Enter 5 Numbers:\n",
    "- Initialize an empty list named `numbers`.\n",
    "- Use a `for` loop to prompt the user to enter 5 numbers:\n",
    "  - Convert each input to a float.\n",
    "  - Append each number to the `numbers` list.\n",
    "\n",
    "## Find and Display Maximum and Minimum Numbers:\n",
    "- Call `find_max_min(numbers)` to get the maximum and minimum numbers.\n",
    "- Print the maximum number.\n",
    "- Print the minimum number.\n"
   ]
  },
  {
   "cell_type": "markdown",
   "id": "bd45ea94",
   "metadata": {},
   "source": [
    "## Question 5"
   ]
  },
  {
   "cell_type": "code",
   "execution_count": 7,
   "id": "bc2e5e73",
   "metadata": {},
   "outputs": [
    {
     "name": "stdout",
     "output_type": "stream",
     "text": [
      "Enter name of student 1: murtaza\n",
      "Enter age of student 1: 22\n",
      "Enter grade of student 1: A\n",
      "Enter name of student 2: Ali\n",
      "Enter age of student 2: 21\n",
      "Enter grade of student 2: B\n",
      "Enter name of student 3: Haseeb\n",
      "Enter age of student 3: 23\n",
      "Enter grade of student 3: A+\n",
      "Student Details:\n",
      "Name: murtaza, Age: 22, Grade: A\n",
      "Name: Ali, Age: 21, Grade: B\n",
      "Name: Haseeb, Age: 23, Grade: A+\n"
     ]
    }
   ],
   "source": [
    "students = []\n",
    "for i in range(3):\n",
    "    name = input(f\"Enter name of student {i+1}: \")\n",
    "    age = int(input(f\"Enter age of student {i+1}: \"))\n",
    "    grade = input(f\"Enter grade of student {i+1}: \")\n",
    "    students.append((name, age, grade))\n",
    "\n",
    "students_dict = {name: (age, grade) for name, age, grade in students}\n",
    "\n",
    "# Display output\n",
    "print(\"Student Details:\")\n",
    "for name, (age, grade) in students_dict.items():\n",
    "    print(f\"Name: {name}, Age: {age}, Grade: {grade}\")"
   ]
  },
  {
   "cell_type": "markdown",
   "id": "5ca4f23d",
   "metadata": {},
   "source": [
    "# Prompt User to Enter Details of 3 Students\n",
    "\n",
    "## Initialize `students` List:\n",
    "- Create an empty list named `students` to store details of students.\n",
    "\n",
    "## Loop to Collect Student Details:\n",
    "- Use a `for` loop to prompt the user to enter details for 3 students:\n",
    "  - Ask for the name of the student.\n",
    "  - Ask for the age of the student (input is converted to an integer).\n",
    "  - Ask for the grade of the student.\n",
    "  - Append a tuple `(name, age, grade)` to the `students` list.\n",
    "\n",
    "## Convert List of Tuples to Dictionary:\n",
    "- Create a dictionary named `students_dict` using a dictionary comprehension:\n",
    "  - Use the name as the key.\n",
    "  - Use a tuple `(age, grade)` as the value.\n",
    "\n",
    "## Display Student Details:\n",
    "- Print \"Student Details:\" to indicate the start of output.\n",
    "- Iterate through `students_dict` using `.items()` to print each student's details:\n",
    "  - Print the student's name, age, and grade formatted accordingly.\n"
   ]
  },
  {
   "cell_type": "markdown",
   "id": "1eba8dd0",
   "metadata": {},
   "source": [
    "## Question 6"
   ]
  },
  {
   "cell_type": "code",
   "execution_count": 12,
   "id": "4c99db65",
   "metadata": {},
   "outputs": [
    {
     "name": "stdout",
     "output_type": "stream",
     "text": [
      "Enter item 1 to update: Apple\n",
      "Enter quantity to add/remove (Apple): 5\n",
      "Enter item 2 to update: Banana\n",
      "Enter quantity to add/remove (Banana): 5\n",
      "Enter item 3 to update: Date\n",
      "Enter quantity to add/remove (Date): 7\n",
      "Updated Inventory:\n",
      "Apple: 15\n",
      "Banana: 25\n",
      "Cherry: 15\n",
      "Date: 19\n",
      "Elderberry: 18\n"
     ]
    }
   ],
   "source": [
    "def update_inventory(inventory_dict, item, quantity):\n",
    "   \n",
    "    if item in inventory_dict:\n",
    "        new_quantity = inventory_dict[item] + quantity\n",
    "        if new_quantity >= 0:\n",
    "            inventory_dict[item] = new_quantity\n",
    "        else:\n",
    "            print(f\"Cannot remove more {item} than available.\")\n",
    "    else:\n",
    "        print(f\"{item} not found in inventory.\")\n",
    "    return inventory_dict\n",
    "\n",
    "inventory = {\n",
    "    \"Apple\": 10,\n",
    "    \"Banana\": 20,\n",
    "    \"Cherry\": 15,\n",
    "    \"Date\": 12,\n",
    "    \"Elderberry\": 18\n",
    "}\n",
    "\n",
    "for i in range(3):\n",
    "    item = input(f\"Enter item {i+1} to update: \")\n",
    "    quantity = int(input(f\"Enter quantity to add/remove ({item}): \"))\n",
    "    inventory = update_inventory(inventory, item, quantity)\n",
    "\n",
    "print(\"Updated Inventory:\")\n",
    "for item, quantity in inventory.items():\n",
    "    print(f\"{item}: {quantity}\")"
   ]
  },
  {
   "cell_type": "markdown",
   "id": "3e95cf5c",
   "metadata": {},
   "source": [
    "# Function Definition and Usage\n",
    "\n",
    "## Define `update_inventory` Function:\n",
    "- Create a function named `update_inventory` that takes three parameters:\n",
    "  - `inventory_dict`: Dictionary representing current inventory.\n",
    "  - `item`: Name of the item to update.\n",
    "  - `quantity`: Quantity to add or remove for the item.\n",
    "- Check if `item` exists in `inventory_dict`:\n",
    "  - If yes, calculate `new_quantity` by adding `quantity` to the current quantity.\n",
    "  - If `new_quantity` is non-negative, update `inventory_dict` with `new_quantity`.\n",
    "  - If `new_quantity` is negative, print an error message indicating insufficient quantity to remove.\n",
    "- If `item` does not exist in `inventory_dict`, print an error message indicating item not found.\n",
    "- Return the updated `inventory_dict`.\n",
    "\n",
    "## Initialize Inventory Dictionary:\n",
    "- Create an inventory dictionary `inventory` with initial items and quantities.\n",
    "\n",
    "## Prompt User to Update Inventory:\n",
    "- Use a `for` loop to prompt the user to update inventory for 3 items:\n",
    "  - Ask for the item name.\n",
    "  - Ask for the quantity to add or remove for the item (input converted to an integer).\n",
    "  - Call `update_inventory` function to update `inventory` based on user input.\n",
    "\n",
    "## Display Updated Inventory:\n",
    "- Print \"Updated Inventory:\" to indicate the start of output.\n",
    "- Iterate through `inventory` dictionary using `.items()` to print each item and its updated quantity.\n",
    "\n",
    "\n"
   ]
  },
  {
   "cell_type": "markdown",
   "id": "6d07e10c",
   "metadata": {},
   "source": []
  }
 ],
 "metadata": {
  "kernelspec": {
   "display_name": "Python 3 (ipykernel)",
   "language": "python",
   "name": "python3"
  },
  "language_info": {
   "codemirror_mode": {
    "name": "ipython",
    "version": 3
   },
   "file_extension": ".py",
   "mimetype": "text/x-python",
   "name": "python",
   "nbconvert_exporter": "python",
   "pygments_lexer": "ipython3",
   "version": "3.11.5"
  }
 },
 "nbformat": 4,
 "nbformat_minor": 5
}
